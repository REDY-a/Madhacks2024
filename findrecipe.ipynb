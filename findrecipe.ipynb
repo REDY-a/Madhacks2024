{
 "cells": [
  {
   "cell_type": "code",
   "execution_count": 49,
   "metadata": {},
   "outputs": [],
   "source": [
    "# imports all \n",
    "import json\n",
    "from flask import Flask, render_template, request\n"
   ]
  },
  {
   "cell_type": "code",
   "execution_count": 46,
   "metadata": {},
   "outputs": [
    {
     "name": "stdout",
     "output_type": "stream",
     "text": [
      "[{'Recipe Name': 'Chocolate Chip Cookies', 'Ingredients': [{'Ingredient': 'Butter', 'Quantity': 1, 'Unit': 'Cup'}, {'Ingredient': 'White Sugar', 'Quantity': 1, 'Unit': 'Cup'}, {'Ingredient': 'Brown Sugar', 'Quantity': 1, 'Unit': 'Cup'}, {'Ingredient': 'Eggs', 'Quantity': 2, 'Unit': 'Large'}, {'Ingredient': 'Vanilla Extract', 'Quantity': 2, 'Unit': 'Teaspoons'}, {'Ingredient': 'Flour', 'Quantity': 3, 'Unit': 'Cups'}, {'Ingredient': 'Baking Soda', 'Quantity': 1, 'Unit': 'Teaspoon'}, {'Ingredient': 'Salt', 'Quantity': 0.5, 'Unit': 'Teaspoon'}, {'Ingredient': 'Chocolate Chips', 'Quantity': 2, 'Unit': 'Cups'}], 'Instructions': ['Preheat oven to 350°F. Cream together the butter and sugars.', 'Add the eggs and vanilla extract to the mixture and beat well.', 'In a separate bowl, whisk together the flour, baking soda, and salt.', 'Gradually add the dry ingredients to the wet ingredients.', 'Stir in the chocolate chips.', 'Drop spoonfuls of dough onto a baking sheet.', 'Bake for 10-12 minutes or until golden brown.', 'Let cool on a wire rack.', 'Enjoy your homemade cookies!'], 'Time': '45 minutes'}, {'Recipe Name': 'Spaghetti Bolognese', 'Ingredients': [{'Ingredient': 'Spaghetti', 'Quantity': 400, 'Unit': 'Grams'}, {'Ingredient': 'Ground Beef', 'Quantity': 500, 'Unit': 'Grams'}, {'Ingredient': 'Onion', 'Quantity': 1, 'Unit': 'Large'}, {'Ingredient': 'Garlic', 'Quantity': 2, 'Unit': 'Cloves'}, {'Ingredient': 'Tomato Sauce', 'Quantity': 2, 'Unit': 'Cups'}, {'Ingredient': 'Olive Oil', 'Quantity': 2, 'Unit': 'Tablespoons'}, {'Ingredient': 'Salt', 'Quantity': 'To Taste', 'Unit': ''}, {'Ingredient': 'Pepper', 'Quantity': 'To Taste', 'Unit': ''}, {'Ingredient': 'Parmesan Cheese', 'Quantity': 0.25, 'Unit': 'Cup'}], 'Instructions': ['Boil the spaghetti according to the package instructions.', 'Heat oil in a pan and cook the ground beef until browned.', 'Dice the onion and garlic and add to the beef.', 'Cook until the onion is translucent.', 'Add the tomato sauce and simmer for 15 minutes.', 'Season with salt and pepper.', 'Serve the sauce over the spaghetti.', 'Garnish with grated Parmesan cheese if desired.', 'Enjoy your meal!'], 'Time': '30 minutes'}]\n"
     ]
    }
   ],
   "source": [
    "# Open the JSON file and load its contents\n",
    "with open('allrecipe.json', 'r') as file:\n",
    "    recipes = json.load(file)\n",
    "\n",
    "# Print the data to see the content\n",
    "print(recipes)"
   ]
  },
  {
   "cell_type": "code",
   "execution_count": 1,
   "metadata": {},
   "outputs": [],
   "source": [
    "import re\n",
    "\n",
    "# Function to convert time to minutes for sorting\n",
    "def convert_time_to_minutes(time_str):\n",
    "    match = re.match(r\"(\\d+)\\s*(minutes|hour)\", time_str)\n",
    "    if match:\n",
    "        value, unit = match.groups()\n",
    "        value = int(value)\n",
    "        if unit == \"hour\":\n",
    "            return value * 60  # Convert hours to minutes\n",
    "        else:\n",
    "            return value\n",
    "    return 0  # Default if no match found\n",
    "\n",
    "def find_recipes_by_ingredient(ingredient_name, recipes):\n",
    "    result = []\n",
    "    for recipe in recipes:\n",
    "        # Check if the ingredient exists in the recipe's ingredient list\n",
    "        if any(ingredient['Ingredient'].lower() == ingredient_name.lower() for ingredient in recipe['Ingredients']):\n",
    "            result.append((recipe['Recipe Name'], recipe['Time'], recipe))  # Append recipe name, time, and recipe details\n",
    "\n",
    "    if not result:\n",
    "        return \"Sorry, no recipe exists.\"\n",
    "    \n",
    "    # Sort the result by time (convert time to minutes)\n",
    "    result.sort(key=lambda x: convert_time_to_minutes(x[1]))  # Sorting by the time (second element in tuple)\n",
    "    \n",
    "    return result"
   ]
  },
  {
   "cell_type": "code",
   "execution_count": 48,
   "metadata": {},
   "outputs": [
    {
     "data": {
      "text/plain": [
       "[('Chocolate Chip Cookies', '45 minutes')]"
      ]
     },
     "execution_count": 48,
     "metadata": {},
     "output_type": "execute_result"
    }
   ],
   "source": [
    "recipes_with_ingredient = find_recipes_by_ingredient(\"butter\", recipes)\n",
    "recipes_with_ingredient"
   ]
  }
 ],
 "metadata": {
  "kernelspec": {
   "display_name": "base",
   "language": "python",
   "name": "python3"
  },
  "language_info": {
   "codemirror_mode": {
    "name": "ipython",
    "version": 3
   },
   "file_extension": ".py",
   "mimetype": "text/x-python",
   "name": "python",
   "nbconvert_exporter": "python",
   "pygments_lexer": "ipython3",
   "version": "3.10.12"
  }
 },
 "nbformat": 4,
 "nbformat_minor": 2
}
